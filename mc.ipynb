{
 "cells": [
  {
   "cell_type": "code",
   "execution_count": 8,
   "metadata": {},
   "outputs": [],
   "source": [
    "import numpy as np\n",
    "import pandas as pa\n",
    "import matplotlib.pyplot as plt\n",
    "%matplotlib inline"
   ]
  },
  {
   "cell_type": "markdown",
   "metadata": {},
   "source": [
    "## Load data"
   ]
  },
  {
   "cell_type": "code",
   "execution_count": 9,
   "metadata": {},
   "outputs": [],
   "source": [
    "df = pa.read_json(\"https://raw.githubusercontent.com/misode/mcmeta/data-json/data/minecraft/dimension/overworld.json\")"
   ]
  },
  {
   "cell_type": "markdown",
   "metadata": {},
   "source": [
    "### Filter biomes"
   ]
  },
  {
   "cell_type": "code",
   "execution_count": 10,
   "metadata": {},
   "outputs": [],
   "source": [
    "biomes = df[\"generator\"][\"biome_source\"][\"biomes\"]\n",
    "dfName = pa.DataFrame([b[\"biome\"] for b in biomes], columns=[\"biomes\"])\n",
    "\n",
    "params = [b[\"parameters\"] for b in biomes]\n",
    "parameters = [[p[\"erosion\"], p[\"depth\"], p[\"weirdness\"], p[\"offset\"], p[\"temperature\"], p[\"humidity\"], p[\"continentalness\"]] for p in params]\n",
    "dfParameters = pa.DataFrame(parameters, columns=[\"erosion\", \"depth\", \"weirdness\", \"offset\", \"temperature\", \"humidity\", \"continentalness\"])"
   ]
  },
  {
   "cell_type": "markdown",
   "metadata": {},
   "source": [
    "### The dataset"
   ]
  },
  {
   "cell_type": "code",
   "execution_count": 11,
   "metadata": {},
   "outputs": [],
   "source": [
    "dataset = pa.concat([dfName, dfParameters], axis=1)"
   ]
  },
  {
   "cell_type": "code",
   "execution_count": 12,
   "metadata": {},
   "outputs": [
    {
     "data": {
      "text/html": [
       "<div>\n",
       "<style scoped>\n",
       "    .dataframe tbody tr th:only-of-type {\n",
       "        vertical-align: middle;\n",
       "    }\n",
       "\n",
       "    .dataframe tbody tr th {\n",
       "        vertical-align: top;\n",
       "    }\n",
       "\n",
       "    .dataframe thead th {\n",
       "        text-align: right;\n",
       "    }\n",
       "</style>\n",
       "<table border=\"1\" class=\"dataframe\">\n",
       "  <thead>\n",
       "    <tr style=\"text-align: right;\">\n",
       "      <th></th>\n",
       "      <th>biomes</th>\n",
       "      <th>erosion</th>\n",
       "      <th>depth</th>\n",
       "      <th>weirdness</th>\n",
       "      <th>offset</th>\n",
       "      <th>temperature</th>\n",
       "      <th>humidity</th>\n",
       "      <th>continentalness</th>\n",
       "    </tr>\n",
       "  </thead>\n",
       "  <tbody>\n",
       "    <tr>\n",
       "      <th>0</th>\n",
       "      <td>minecraft:mushroom_fields</td>\n",
       "      <td>[-1.0, 1.0]</td>\n",
       "      <td>0.0</td>\n",
       "      <td>[-1.0, 1.0]</td>\n",
       "      <td>0.0</td>\n",
       "      <td>[-1.0, 1.0]</td>\n",
       "      <td>[-1.0, 1.0]</td>\n",
       "      <td>[-1.2, -1.05]</td>\n",
       "    </tr>\n",
       "    <tr>\n",
       "      <th>1</th>\n",
       "      <td>minecraft:mushroom_fields</td>\n",
       "      <td>[-1.0, 1.0]</td>\n",
       "      <td>1.0</td>\n",
       "      <td>[-1.0, 1.0]</td>\n",
       "      <td>0.0</td>\n",
       "      <td>[-1.0, 1.0]</td>\n",
       "      <td>[-1.0, 1.0]</td>\n",
       "      <td>[-1.2, -1.05]</td>\n",
       "    </tr>\n",
       "    <tr>\n",
       "      <th>2</th>\n",
       "      <td>minecraft:deep_frozen_ocean</td>\n",
       "      <td>[-1.0, 1.0]</td>\n",
       "      <td>0.0</td>\n",
       "      <td>[-1.0, 1.0]</td>\n",
       "      <td>0.0</td>\n",
       "      <td>[-1.0, -0.45]</td>\n",
       "      <td>[-1.0, 1.0]</td>\n",
       "      <td>[-1.05, -0.455]</td>\n",
       "    </tr>\n",
       "    <tr>\n",
       "      <th>3</th>\n",
       "      <td>minecraft:deep_frozen_ocean</td>\n",
       "      <td>[-1.0, 1.0]</td>\n",
       "      <td>1.0</td>\n",
       "      <td>[-1.0, 1.0]</td>\n",
       "      <td>0.0</td>\n",
       "      <td>[-1.0, -0.45]</td>\n",
       "      <td>[-1.0, 1.0]</td>\n",
       "      <td>[-1.05, -0.455]</td>\n",
       "    </tr>\n",
       "    <tr>\n",
       "      <th>4</th>\n",
       "      <td>minecraft:frozen_ocean</td>\n",
       "      <td>[-1.0, 1.0]</td>\n",
       "      <td>0.0</td>\n",
       "      <td>[-1.0, 1.0]</td>\n",
       "      <td>0.0</td>\n",
       "      <td>[-1.0, -0.45]</td>\n",
       "      <td>[-1.0, 1.0]</td>\n",
       "      <td>[-0.455, -0.19]</td>\n",
       "    </tr>\n",
       "    <tr>\n",
       "      <th>...</th>\n",
       "      <td>...</td>\n",
       "      <td>...</td>\n",
       "      <td>...</td>\n",
       "      <td>...</td>\n",
       "      <td>...</td>\n",
       "      <td>...</td>\n",
       "      <td>...</td>\n",
       "      <td>...</td>\n",
       "    </tr>\n",
       "    <tr>\n",
       "      <th>7588</th>\n",
       "      <td>minecraft:desert</td>\n",
       "      <td>[0.55, 1.0]</td>\n",
       "      <td>0.0</td>\n",
       "      <td>[0.9333, 1.0]</td>\n",
       "      <td>0.0</td>\n",
       "      <td>[0.55, 1.0]</td>\n",
       "      <td>[0.30000000000000004, 1.0]</td>\n",
       "      <td>[-0.19, -0.11]</td>\n",
       "    </tr>\n",
       "    <tr>\n",
       "      <th>7589</th>\n",
       "      <td>minecraft:desert</td>\n",
       "      <td>[0.55, 1.0]</td>\n",
       "      <td>1.0</td>\n",
       "      <td>[0.9333, 1.0]</td>\n",
       "      <td>0.0</td>\n",
       "      <td>[0.55, 1.0]</td>\n",
       "      <td>[0.30000000000000004, 1.0]</td>\n",
       "      <td>[-0.19, -0.11]</td>\n",
       "    </tr>\n",
       "    <tr>\n",
       "      <th>7590</th>\n",
       "      <td>minecraft:dripstone_caves</td>\n",
       "      <td>[-1.0, 1.0]</td>\n",
       "      <td>[0.2, 0.9]</td>\n",
       "      <td>[-1.0, 1.0]</td>\n",
       "      <td>0.0</td>\n",
       "      <td>[-1.0, 1.0]</td>\n",
       "      <td>[-1.0, 1.0]</td>\n",
       "      <td>[0.8, 1.0]</td>\n",
       "    </tr>\n",
       "    <tr>\n",
       "      <th>7591</th>\n",
       "      <td>minecraft:lush_caves</td>\n",
       "      <td>[-1.0, 1.0]</td>\n",
       "      <td>[0.2, 0.9]</td>\n",
       "      <td>[-1.0, 1.0]</td>\n",
       "      <td>0.0</td>\n",
       "      <td>[-1.0, 1.0]</td>\n",
       "      <td>[0.7000000000000001, 1.0]</td>\n",
       "      <td>[-1.0, 1.0]</td>\n",
       "    </tr>\n",
       "    <tr>\n",
       "      <th>7592</th>\n",
       "      <td>minecraft:deep_dark</td>\n",
       "      <td>[-1.0, -0.375]</td>\n",
       "      <td>1.1</td>\n",
       "      <td>[-1.0, 1.0]</td>\n",
       "      <td>0.0</td>\n",
       "      <td>[-1.0, 1.0]</td>\n",
       "      <td>[-1.0, 1.0]</td>\n",
       "      <td>[-1.0, 1.0]</td>\n",
       "    </tr>\n",
       "  </tbody>\n",
       "</table>\n",
       "<p>7593 rows × 8 columns</p>\n",
       "</div>"
      ],
      "text/plain": [
       "                           biomes         erosion       depth      weirdness  \\\n",
       "0       minecraft:mushroom_fields     [-1.0, 1.0]         0.0    [-1.0, 1.0]   \n",
       "1       minecraft:mushroom_fields     [-1.0, 1.0]         1.0    [-1.0, 1.0]   \n",
       "2     minecraft:deep_frozen_ocean     [-1.0, 1.0]         0.0    [-1.0, 1.0]   \n",
       "3     minecraft:deep_frozen_ocean     [-1.0, 1.0]         1.0    [-1.0, 1.0]   \n",
       "4          minecraft:frozen_ocean     [-1.0, 1.0]         0.0    [-1.0, 1.0]   \n",
       "...                           ...             ...         ...            ...   \n",
       "7588             minecraft:desert     [0.55, 1.0]         0.0  [0.9333, 1.0]   \n",
       "7589             minecraft:desert     [0.55, 1.0]         1.0  [0.9333, 1.0]   \n",
       "7590    minecraft:dripstone_caves     [-1.0, 1.0]  [0.2, 0.9]    [-1.0, 1.0]   \n",
       "7591         minecraft:lush_caves     [-1.0, 1.0]  [0.2, 0.9]    [-1.0, 1.0]   \n",
       "7592          minecraft:deep_dark  [-1.0, -0.375]         1.1    [-1.0, 1.0]   \n",
       "\n",
       "      offset    temperature                    humidity  continentalness  \n",
       "0        0.0    [-1.0, 1.0]                 [-1.0, 1.0]    [-1.2, -1.05]  \n",
       "1        0.0    [-1.0, 1.0]                 [-1.0, 1.0]    [-1.2, -1.05]  \n",
       "2        0.0  [-1.0, -0.45]                 [-1.0, 1.0]  [-1.05, -0.455]  \n",
       "3        0.0  [-1.0, -0.45]                 [-1.0, 1.0]  [-1.05, -0.455]  \n",
       "4        0.0  [-1.0, -0.45]                 [-1.0, 1.0]  [-0.455, -0.19]  \n",
       "...      ...            ...                         ...              ...  \n",
       "7588     0.0    [0.55, 1.0]  [0.30000000000000004, 1.0]   [-0.19, -0.11]  \n",
       "7589     0.0    [0.55, 1.0]  [0.30000000000000004, 1.0]   [-0.19, -0.11]  \n",
       "7590     0.0    [-1.0, 1.0]                 [-1.0, 1.0]       [0.8, 1.0]  \n",
       "7591     0.0    [-1.0, 1.0]   [0.7000000000000001, 1.0]      [-1.0, 1.0]  \n",
       "7592     0.0    [-1.0, 1.0]                 [-1.0, 1.0]      [-1.0, 1.0]  \n",
       "\n",
       "[7593 rows x 8 columns]"
      ]
     },
     "execution_count": 12,
     "metadata": {},
     "output_type": "execute_result"
    }
   ],
   "source": [
    "dataset"
   ]
  },
  {
   "cell_type": "markdown",
   "metadata": {},
   "source": [
    "### Get biomes list"
   ]
  },
  {
   "cell_type": "code",
   "execution_count": 13,
   "metadata": {},
   "outputs": [
    {
     "name": "stdout",
     "output_type": "stream",
     "text": [
      "52\n"
     ]
    },
    {
     "data": {
      "text/plain": [
       "0                minecraft:mushroom_fields\n",
       "2              minecraft:deep_frozen_ocean\n",
       "4                   minecraft:frozen_ocean\n",
       "6                minecraft:deep_cold_ocean\n",
       "8                     minecraft:cold_ocean\n",
       "10                    minecraft:deep_ocean\n",
       "12                         minecraft:ocean\n",
       "14           minecraft:deep_lukewarm_ocean\n",
       "16                minecraft:lukewarm_ocean\n",
       "18                    minecraft:warm_ocean\n",
       "22                   minecraft:stony_shore\n",
       "24                         minecraft:swamp\n",
       "26                minecraft:mangrove_swamp\n",
       "28                  minecraft:snowy_slopes\n",
       "34                  minecraft:snowy_plains\n",
       "44                   minecraft:snowy_beach\n",
       "52      minecraft:windswept_gravelly_hills\n",
       "88                         minecraft:grove\n",
       "112              minecraft:windswept_hills\n",
       "124                  minecraft:snowy_taiga\n",
       "142             minecraft:windswept_forest\n",
       "154                        minecraft:taiga\n",
       "180                       minecraft:plains\n",
       "182                       minecraft:meadow\n",
       "194                        minecraft:beach\n",
       "236                       minecraft:forest\n",
       "292      minecraft:old_growth_spruce_taiga\n",
       "320                minecraft:flower_forest\n",
       "404                 minecraft:birch_forest\n",
       "432                  minecraft:dark_forest\n",
       "458              minecraft:savanna_plateau\n",
       "460                      minecraft:savanna\n",
       "544                       minecraft:jungle\n",
       "598                     minecraft:badlands\n",
       "604                       minecraft:desert\n",
       "682              minecraft:wooded_badlands\n",
       "742                 minecraft:jagged_peaks\n",
       "1132                 minecraft:stony_peaks\n",
       "3820                minecraft:frozen_river\n",
       "3822                       minecraft:river\n",
       "3842                  minecraft:ice_spikes\n",
       "3860       minecraft:old_growth_pine_taiga\n",
       "3862            minecraft:sunflower_plains\n",
       "3868     minecraft:old_growth_birch_forest\n",
       "3878               minecraft:sparse_jungle\n",
       "3880               minecraft:bamboo_jungle\n",
       "3882             minecraft:eroded_badlands\n",
       "4120           minecraft:windswept_savanna\n",
       "5078                minecraft:frozen_peaks\n",
       "7590             minecraft:dripstone_caves\n",
       "7591                  minecraft:lush_caves\n",
       "7592                   minecraft:deep_dark\n",
       "Name: biomes, dtype: object"
      ]
     },
     "execution_count": 13,
     "metadata": {},
     "output_type": "execute_result"
    }
   ],
   "source": [
    "bName = dataset[\"biomes\"].drop_duplicates()\n",
    "print(len(bName))\n",
    "bName"
   ]
  },
  {
   "cell_type": "markdown",
   "metadata": {},
   "source": [
    "### Give color to some biome"
   ]
  },
  {
   "cell_type": "code",
   "execution_count": 14,
   "metadata": {},
   "outputs": [],
   "source": [
    "bName = np.array([\"minecraft:savanna\", \"minecraft:plains\", \"minecraft:forest\", \"minecraft:jungle\", \"minecraft:flower_forest\", \"minecraft:ocean\", \"minecraft:warm_ocean\", \"minecraft:mushroom_fields\", \"minecraft:desert\", \"minecraft:swamp\", \"minecraft:badlands\", \"minecraft:river\", \"minecraft:snowy_plains\"])\n",
    "def getBiomeColor(name):\n",
    "  colors = ['r','lime','forestgreen','darkgreen', 'gray','b','c','m','yellow','goldenrod','orange','pink','k']\n",
    "  pos = np.where(bName == name)[0]\n",
    "\n",
    "  if pos.size == 0 or pos[0] >= len(colors):\n",
    "    return \"purple\"\n",
    "  return colors[pos[0]]"
   ]
  },
  {
   "cell_type": "code",
   "execution_count": 15,
   "metadata": {},
   "outputs": [],
   "source": [
    "def showVec(ds, vecName):\n",
    "  ds = ds.sort_values(\"biomes\") # sort by biomes\n",
    "\n",
    "  for i in range(0, len(ds), 1):\n",
    "    d = ds.iloc[i]\n",
    "    y = d[vecName] # (min, max)\n",
    "    color = getBiomeColor(d[\"biomes\"])\n",
    "    plt.plot((i, i), y, color=color)"
   ]
  },
  {
   "cell_type": "code",
   "execution_count": 16,
   "metadata": {},
   "outputs": [],
   "source": [
    "nameSelect = [\"minecraft:savanna\", \"minecraft:plains\", \"minecraft:forest\", \"minecraft:jungle\",\n",
    "              \"minecraft:ocean\", \"minecraft:warm_ocean\", \"minecraft:mushroom_fields\",\n",
    "              \"minecraft:desert\", \"minecraft:swamp\", \"minecraft:snowy_plains\", \"minecraft:badlands\",\n",
    "              \"minecraft:river\", \"minecraft:flower_forest\", \"minecraft:jagged_peaks\"]\n",
    "bNameSelect = [any(b == bn for bn in nameSelect) for b in dataset[\"biomes\"]]\n"
   ]
  },
  {
   "cell_type": "code",
   "execution_count": 17,
   "metadata": {},
   "outputs": [
    {
     "data": {
      "text/html": [
       "<div>\n",
       "<style scoped>\n",
       "    .dataframe tbody tr th:only-of-type {\n",
       "        vertical-align: middle;\n",
       "    }\n",
       "\n",
       "    .dataframe tbody tr th {\n",
       "        vertical-align: top;\n",
       "    }\n",
       "\n",
       "    .dataframe thead th {\n",
       "        text-align: right;\n",
       "    }\n",
       "</style>\n",
       "<table border=\"1\" class=\"dataframe\">\n",
       "  <thead>\n",
       "    <tr style=\"text-align: right;\">\n",
       "      <th></th>\n",
       "      <th>biomes</th>\n",
       "      <th>erosion</th>\n",
       "      <th>depth</th>\n",
       "      <th>weirdness</th>\n",
       "      <th>offset</th>\n",
       "      <th>temperature</th>\n",
       "      <th>humidity</th>\n",
       "      <th>continentalness</th>\n",
       "    </tr>\n",
       "  </thead>\n",
       "  <tbody>\n",
       "    <tr>\n",
       "      <th>1828</th>\n",
       "      <td>minecraft:badlands</td>\n",
       "      <td>[-1.0, -0.7799]</td>\n",
       "      <td>0.0</td>\n",
       "      <td>[-0.7666000000000001, -0.5666]</td>\n",
       "      <td>0.0</td>\n",
       "      <td>[0.55, 1.0]</td>\n",
       "      <td>[-1.0, -0.35000000000000003]</td>\n",
       "      <td>[-0.19, 1.0]</td>\n",
       "    </tr>\n",
       "    <tr>\n",
       "      <th>612</th>\n",
       "      <td>minecraft:badlands</td>\n",
       "      <td>[-0.2225, 0.05]</td>\n",
       "      <td>0.0</td>\n",
       "      <td>[-1.0, -0.9333]</td>\n",
       "      <td>0.0</td>\n",
       "      <td>[0.55, 1.0]</td>\n",
       "      <td>[-1.0, -0.35000000000000003]</td>\n",
       "      <td>[0.03, 1.0]</td>\n",
       "    </tr>\n",
       "    <tr>\n",
       "      <th>609</th>\n",
       "      <td>minecraft:badlands</td>\n",
       "      <td>[-0.375, -0.2225]</td>\n",
       "      <td>1.0</td>\n",
       "      <td>[-1.0, -0.9333]</td>\n",
       "      <td>0.0</td>\n",
       "      <td>[0.55, 1.0]</td>\n",
       "      <td>[-1.0, -0.35000000000000003]</td>\n",
       "      <td>[0.30000000000000004, 1.0]</td>\n",
       "    </tr>\n",
       "    <tr>\n",
       "      <th>608</th>\n",
       "      <td>minecraft:badlands</td>\n",
       "      <td>[-0.375, -0.2225]</td>\n",
       "      <td>0.0</td>\n",
       "      <td>[-1.0, -0.9333]</td>\n",
       "      <td>0.0</td>\n",
       "      <td>[0.55, 1.0]</td>\n",
       "      <td>[-1.0, -0.35000000000000003]</td>\n",
       "      <td>[0.30000000000000004, 1.0]</td>\n",
       "    </tr>\n",
       "    <tr>\n",
       "      <th>607</th>\n",
       "      <td>minecraft:badlands</td>\n",
       "      <td>[-0.375, -0.2225]</td>\n",
       "      <td>1.0</td>\n",
       "      <td>[-1.0, -0.9333]</td>\n",
       "      <td>0.0</td>\n",
       "      <td>[0.55, 1.0]</td>\n",
       "      <td>[-1.0, -0.35000000000000003]</td>\n",
       "      <td>[0.03, 0.30000000000000004]</td>\n",
       "    </tr>\n",
       "    <tr>\n",
       "      <th>...</th>\n",
       "      <td>...</td>\n",
       "      <td>...</td>\n",
       "      <td>...</td>\n",
       "      <td>...</td>\n",
       "      <td>...</td>\n",
       "      <td>...</td>\n",
       "      <td>...</td>\n",
       "      <td>...</td>\n",
       "    </tr>\n",
       "    <tr>\n",
       "      <th>2590</th>\n",
       "      <td>minecraft:swamp</td>\n",
       "      <td>[0.55, 1.0]</td>\n",
       "      <td>0.0</td>\n",
       "      <td>[-0.4, -0.2666]</td>\n",
       "      <td>0.0</td>\n",
       "      <td>[-0.45, 0.2]</td>\n",
       "      <td>[-1.0, 1.0]</td>\n",
       "      <td>[-0.11, 1.0]</td>\n",
       "    </tr>\n",
       "    <tr>\n",
       "      <th>21</th>\n",
       "      <td>minecraft:warm_ocean</td>\n",
       "      <td>[-1.0, 1.0]</td>\n",
       "      <td>1.0</td>\n",
       "      <td>[-1.0, 1.0]</td>\n",
       "      <td>0.0</td>\n",
       "      <td>[0.55, 1.0]</td>\n",
       "      <td>[-1.0, 1.0]</td>\n",
       "      <td>[-0.455, -0.19]</td>\n",
       "    </tr>\n",
       "    <tr>\n",
       "      <th>20</th>\n",
       "      <td>minecraft:warm_ocean</td>\n",
       "      <td>[-1.0, 1.0]</td>\n",
       "      <td>0.0</td>\n",
       "      <td>[-1.0, 1.0]</td>\n",
       "      <td>0.0</td>\n",
       "      <td>[0.55, 1.0]</td>\n",
       "      <td>[-1.0, 1.0]</td>\n",
       "      <td>[-0.455, -0.19]</td>\n",
       "    </tr>\n",
       "    <tr>\n",
       "      <th>19</th>\n",
       "      <td>minecraft:warm_ocean</td>\n",
       "      <td>[-1.0, 1.0]</td>\n",
       "      <td>1.0</td>\n",
       "      <td>[-1.0, 1.0]</td>\n",
       "      <td>0.0</td>\n",
       "      <td>[0.55, 1.0]</td>\n",
       "      <td>[-1.0, 1.0]</td>\n",
       "      <td>[-1.05, -0.455]</td>\n",
       "    </tr>\n",
       "    <tr>\n",
       "      <th>18</th>\n",
       "      <td>minecraft:warm_ocean</td>\n",
       "      <td>[-1.0, 1.0]</td>\n",
       "      <td>0.0</td>\n",
       "      <td>[-1.0, 1.0]</td>\n",
       "      <td>0.0</td>\n",
       "      <td>[0.55, 1.0]</td>\n",
       "      <td>[-1.0, 1.0]</td>\n",
       "      <td>[-1.05, -0.455]</td>\n",
       "    </tr>\n",
       "  </tbody>\n",
       "</table>\n",
       "<p>3386 rows × 8 columns</p>\n",
       "</div>"
      ],
      "text/plain": [
       "                    biomes            erosion depth  \\\n",
       "1828    minecraft:badlands    [-1.0, -0.7799]   0.0   \n",
       "612     minecraft:badlands    [-0.2225, 0.05]   0.0   \n",
       "609     minecraft:badlands  [-0.375, -0.2225]   1.0   \n",
       "608     minecraft:badlands  [-0.375, -0.2225]   0.0   \n",
       "607     minecraft:badlands  [-0.375, -0.2225]   1.0   \n",
       "...                    ...                ...   ...   \n",
       "2590       minecraft:swamp        [0.55, 1.0]   0.0   \n",
       "21    minecraft:warm_ocean        [-1.0, 1.0]   1.0   \n",
       "20    minecraft:warm_ocean        [-1.0, 1.0]   0.0   \n",
       "19    minecraft:warm_ocean        [-1.0, 1.0]   1.0   \n",
       "18    minecraft:warm_ocean        [-1.0, 1.0]   0.0   \n",
       "\n",
       "                           weirdness  offset   temperature  \\\n",
       "1828  [-0.7666000000000001, -0.5666]     0.0   [0.55, 1.0]   \n",
       "612                  [-1.0, -0.9333]     0.0   [0.55, 1.0]   \n",
       "609                  [-1.0, -0.9333]     0.0   [0.55, 1.0]   \n",
       "608                  [-1.0, -0.9333]     0.0   [0.55, 1.0]   \n",
       "607                  [-1.0, -0.9333]     0.0   [0.55, 1.0]   \n",
       "...                              ...     ...           ...   \n",
       "2590                 [-0.4, -0.2666]     0.0  [-0.45, 0.2]   \n",
       "21                       [-1.0, 1.0]     0.0   [0.55, 1.0]   \n",
       "20                       [-1.0, 1.0]     0.0   [0.55, 1.0]   \n",
       "19                       [-1.0, 1.0]     0.0   [0.55, 1.0]   \n",
       "18                       [-1.0, 1.0]     0.0   [0.55, 1.0]   \n",
       "\n",
       "                          humidity              continentalness  \n",
       "1828  [-1.0, -0.35000000000000003]                 [-0.19, 1.0]  \n",
       "612   [-1.0, -0.35000000000000003]                  [0.03, 1.0]  \n",
       "609   [-1.0, -0.35000000000000003]   [0.30000000000000004, 1.0]  \n",
       "608   [-1.0, -0.35000000000000003]   [0.30000000000000004, 1.0]  \n",
       "607   [-1.0, -0.35000000000000003]  [0.03, 0.30000000000000004]  \n",
       "...                            ...                          ...  \n",
       "2590                   [-1.0, 1.0]                 [-0.11, 1.0]  \n",
       "21                     [-1.0, 1.0]              [-0.455, -0.19]  \n",
       "20                     [-1.0, 1.0]              [-0.455, -0.19]  \n",
       "19                     [-1.0, 1.0]              [-1.05, -0.455]  \n",
       "18                     [-1.0, 1.0]              [-1.05, -0.455]  \n",
       "\n",
       "[3386 rows x 8 columns]"
      ]
     },
     "execution_count": 17,
     "metadata": {},
     "output_type": "execute_result"
    }
   ],
   "source": [
    "dataset[bNameSelect].sort_values(\"biomes\") # sort by biomes"
   ]
  },
  {
   "cell_type": "code",
   "execution_count": 18,
   "metadata": {},
   "outputs": [
    {
     "data": {
      "image/png": "[encoded data removed]",
      "text/plain": [
       "<Figure size 432x288 with 1 Axes>"
      ]
     },
     "metadata": {
      "needs_background": "light"
     },
     "output_type": "display_data"
    }
   ],
   "source": [
    "showVec(dataset[bNameSelect], \"erosion\") # nivelé more high is more flatten"
   ]
  },
  {
   "cell_type": "code",
   "execution_count": 19,
   "metadata": {},
   "outputs": [
    {
     "data": {
      "image/png": "[encoded data removed]",
      "text/plain": [
       "<Figure size 432x288 with 1 Axes>"
      ]
     },
     "metadata": {
      "needs_background": "light"
     },
     "output_type": "display_data"
    }
   ],
   "source": [
    "showVec(dataset[bNameSelect], \"weirdness\") # more high more high altitude ?"
   ]
  },
  {
   "cell_type": "code",
   "execution_count": 20,
   "metadata": {},
   "outputs": [
    {
     "data": {
      "image/png": "[encoded data removed]",
      "text/plain": [
       "<Figure size 432x288 with 1 Axes>"
      ]
     },
     "metadata": {
      "needs_background": "light"
     },
     "output_type": "display_data"
    }
   ],
   "source": [
    "showVec(dataset[bNameSelect], \"temperature\") # biome grouping"
   ]
  },
  {
   "cell_type": "code",
   "execution_count": 21,
   "metadata": {},
   "outputs": [
    {
     "data": {
      "image/png": "[encoded data removed]",
      "text/plain": [
       "<Figure size 432x288 with 1 Axes>"
      ]
     },
     "metadata": {
      "needs_background": "light"
     },
     "output_type": "display_data"
    }
   ],
   "source": [
    "showVec(dataset[bNameSelect], \"humidity\") # biome grouping 2"
   ]
  },
  {
   "cell_type": "code",
   "execution_count": 22,
   "metadata": {},
   "outputs": [
    {
     "data": {
      "image/png": "[encoded data removed]",
      "text/plain": [
       "<Figure size 432x288 with 1 Axes>"
      ]
     },
     "metadata": {
      "needs_background": "light"
     },
     "output_type": "display_data"
    }
   ],
   "source": [
    "showVec(dataset[bNameSelect], \"continentalness\")"
   ]
  },
  {
   "cell_type": "markdown",
   "metadata": {},
   "source": [
    "## Test with desert"
   ]
  },
  {
   "cell_type": "code",
   "execution_count": 23,
   "metadata": {},
   "outputs": [
    {
     "data": {
      "text/html": [
       "<div>\n",
       "<style scoped>\n",
       "    .dataframe tbody tr th:only-of-type {\n",
       "        vertical-align: middle;\n",
       "    }\n",
       "\n",
       "    .dataframe tbody tr th {\n",
       "        vertical-align: top;\n",
       "    }\n",
       "\n",
       "    .dataframe thead th {\n",
       "        text-align: right;\n",
       "    }\n",
       "</style>\n",
       "<table border=\"1\" class=\"dataframe\">\n",
       "  <thead>\n",
       "    <tr style=\"text-align: right;\">\n",
       "      <th></th>\n",
       "      <th>biomes</th>\n",
       "      <th>erosion</th>\n",
       "      <th>depth</th>\n",
       "      <th>weirdness</th>\n",
       "      <th>offset</th>\n",
       "      <th>temperature</th>\n",
       "      <th>humidity</th>\n",
       "      <th>continentalness</th>\n",
       "    </tr>\n",
       "  </thead>\n",
       "  <tbody>\n",
       "    <tr>\n",
       "      <th>714</th>\n",
       "      <td>minecraft:wooded_badlands</td>\n",
       "      <td>[-0.7799, -0.375]</td>\n",
       "      <td>0.0</td>\n",
       "      <td>[-1.0, -0.9333]</td>\n",
       "      <td>0.0</td>\n",
       "      <td>[0.55, 1.0]</td>\n",
       "      <td>[0.30000000000000004, 1.0]</td>\n",
       "      <td>[0.30000000000000004, 1.0]</td>\n",
       "    </tr>\n",
       "    <tr>\n",
       "      <th>1366</th>\n",
       "      <td>minecraft:wooded_badlands</td>\n",
       "      <td>[-1.0, -0.7799]</td>\n",
       "      <td>0.0</td>\n",
       "      <td>[-0.9333, -0.7666000000000001]</td>\n",
       "      <td>0.0</td>\n",
       "      <td>[0.55, 1.0]</td>\n",
       "      <td>[0.30000000000000004, 1.0]</td>\n",
       "      <td>[0.03, 1.0]</td>\n",
       "    </tr>\n",
       "    <tr>\n",
       "      <th>1370</th>\n",
       "      <td>minecraft:wooded_badlands</td>\n",
       "      <td>[-0.7799, -0.375]</td>\n",
       "      <td>0.0</td>\n",
       "      <td>[-0.9333, -0.7666000000000001]</td>\n",
       "      <td>0.0</td>\n",
       "      <td>[0.55, 1.0]</td>\n",
       "      <td>[0.30000000000000004, 1.0]</td>\n",
       "      <td>[0.03, 1.0]</td>\n",
       "    </tr>\n",
       "    <tr>\n",
       "      <th>1920</th>\n",
       "      <td>minecraft:wooded_badlands</td>\n",
       "      <td>[-0.7799, -0.375]</td>\n",
       "      <td>0.0</td>\n",
       "      <td>[-0.7666000000000001, -0.5666]</td>\n",
       "      <td>0.0</td>\n",
       "      <td>[0.55, 1.0]</td>\n",
       "      <td>[0.30000000000000004, 1.0]</td>\n",
       "      <td>[0.03, 1.0]</td>\n",
       "    </tr>\n",
       "    <tr>\n",
       "      <th>2566</th>\n",
       "      <td>minecraft:wooded_badlands</td>\n",
       "      <td>[-1.0, -0.7799]</td>\n",
       "      <td>0.0</td>\n",
       "      <td>[-0.5666, -0.4]</td>\n",
       "      <td>0.0</td>\n",
       "      <td>[0.55, 1.0]</td>\n",
       "      <td>[0.30000000000000004, 1.0]</td>\n",
       "      <td>[0.03, 1.0]</td>\n",
       "    </tr>\n",
       "    <tr>\n",
       "      <th>2570</th>\n",
       "      <td>minecraft:wooded_badlands</td>\n",
       "      <td>[-0.7799, -0.375]</td>\n",
       "      <td>0.0</td>\n",
       "      <td>[-0.5666, -0.4]</td>\n",
       "      <td>0.0</td>\n",
       "      <td>[0.55, 1.0]</td>\n",
       "      <td>[0.30000000000000004, 1.0]</td>\n",
       "      <td>[0.03, 1.0]</td>\n",
       "    </tr>\n",
       "    <tr>\n",
       "      <th>3280</th>\n",
       "      <td>minecraft:wooded_badlands</td>\n",
       "      <td>[-0.7799, -0.375]</td>\n",
       "      <td>0.0</td>\n",
       "      <td>[-0.4, -0.2666]</td>\n",
       "      <td>0.0</td>\n",
       "      <td>[0.55, 1.0]</td>\n",
       "      <td>[0.30000000000000004, 1.0]</td>\n",
       "      <td>[0.30000000000000004, 1.0]</td>\n",
       "    </tr>\n",
       "    <tr>\n",
       "      <th>3802</th>\n",
       "      <td>minecraft:wooded_badlands</td>\n",
       "      <td>[-1.0, -0.375]</td>\n",
       "      <td>0.0</td>\n",
       "      <td>[-0.2666, -0.05]</td>\n",
       "      <td>0.0</td>\n",
       "      <td>[0.55, 1.0]</td>\n",
       "      <td>[0.30000000000000004, 1.0]</td>\n",
       "      <td>[0.03, 1.0]</td>\n",
       "    </tr>\n",
       "    <tr>\n",
       "      <th>3890</th>\n",
       "      <td>minecraft:wooded_badlands</td>\n",
       "      <td>[-1.0, -0.375]</td>\n",
       "      <td>0.0</td>\n",
       "      <td>[-0.05, 0.05]</td>\n",
       "      <td>0.0</td>\n",
       "      <td>[0.55, 1.0]</td>\n",
       "      <td>[0.30000000000000004, 1.0]</td>\n",
       "      <td>[0.03, 1.0]</td>\n",
       "    </tr>\n",
       "    <tr>\n",
       "      <th>4390</th>\n",
       "      <td>minecraft:wooded_badlands</td>\n",
       "      <td>[-1.0, -0.375]</td>\n",
       "      <td>0.0</td>\n",
       "      <td>[0.05, 0.2666]</td>\n",
       "      <td>0.0</td>\n",
       "      <td>[0.55, 1.0]</td>\n",
       "      <td>[0.30000000000000004, 1.0]</td>\n",
       "      <td>[0.03, 1.0]</td>\n",
       "    </tr>\n",
       "  </tbody>\n",
       "</table>\n",
       "</div>"
      ],
      "text/plain": [
       "                         biomes            erosion depth  \\\n",
       "714   minecraft:wooded_badlands  [-0.7799, -0.375]   0.0   \n",
       "1366  minecraft:wooded_badlands    [-1.0, -0.7799]   0.0   \n",
       "1370  minecraft:wooded_badlands  [-0.7799, -0.375]   0.0   \n",
       "1920  minecraft:wooded_badlands  [-0.7799, -0.375]   0.0   \n",
       "2566  minecraft:wooded_badlands    [-1.0, -0.7799]   0.0   \n",
       "2570  minecraft:wooded_badlands  [-0.7799, -0.375]   0.0   \n",
       "3280  minecraft:wooded_badlands  [-0.7799, -0.375]   0.0   \n",
       "3802  minecraft:wooded_badlands     [-1.0, -0.375]   0.0   \n",
       "3890  minecraft:wooded_badlands     [-1.0, -0.375]   0.0   \n",
       "4390  minecraft:wooded_badlands     [-1.0, -0.375]   0.0   \n",
       "\n",
       "                           weirdness  offset  temperature  \\\n",
       "714                  [-1.0, -0.9333]     0.0  [0.55, 1.0]   \n",
       "1366  [-0.9333, -0.7666000000000001]     0.0  [0.55, 1.0]   \n",
       "1370  [-0.9333, -0.7666000000000001]     0.0  [0.55, 1.0]   \n",
       "1920  [-0.7666000000000001, -0.5666]     0.0  [0.55, 1.0]   \n",
       "2566                 [-0.5666, -0.4]     0.0  [0.55, 1.0]   \n",
       "2570                 [-0.5666, -0.4]     0.0  [0.55, 1.0]   \n",
       "3280                 [-0.4, -0.2666]     0.0  [0.55, 1.0]   \n",
       "3802                [-0.2666, -0.05]     0.0  [0.55, 1.0]   \n",
       "3890                   [-0.05, 0.05]     0.0  [0.55, 1.0]   \n",
       "4390                  [0.05, 0.2666]     0.0  [0.55, 1.0]   \n",
       "\n",
       "                        humidity             continentalness  \n",
       "714   [0.30000000000000004, 1.0]  [0.30000000000000004, 1.0]  \n",
       "1366  [0.30000000000000004, 1.0]                 [0.03, 1.0]  \n",
       "1370  [0.30000000000000004, 1.0]                 [0.03, 1.0]  \n",
       "1920  [0.30000000000000004, 1.0]                 [0.03, 1.0]  \n",
       "2566  [0.30000000000000004, 1.0]                 [0.03, 1.0]  \n",
       "2570  [0.30000000000000004, 1.0]                 [0.03, 1.0]  \n",
       "3280  [0.30000000000000004, 1.0]  [0.30000000000000004, 1.0]  \n",
       "3802  [0.30000000000000004, 1.0]                 [0.03, 1.0]  \n",
       "3890  [0.30000000000000004, 1.0]                 [0.03, 1.0]  \n",
       "4390  [0.30000000000000004, 1.0]                 [0.03, 1.0]  "
      ]
     },
     "execution_count": 23,
     "metadata": {},
     "output_type": "execute_result"
    }
   ],
   "source": [
    "# desert = dataset[dataset[\"biomes\"] == \"minecraft:jagged_peaks\"]\n",
    "desert = dataset\n",
    "\n",
    "index = []\n",
    "for i, d in desert.iterrows():\n",
    "  # if d[\"erosion\"][0] == -0.2225 and d[\"erosion\"][1] == 0.45 and d[\"humidity\"][0] == 0.1 and d[\"humidity\"][1] == 0.30000000000000004:\n",
    "  if d[\"depth\"] == 0.0 and d[\"erosion\"][1] < -0.3 and d[\"weirdness\"][1] < 0.4 and d[\"temperature\"][0] > 0.5 and d[\"humidity\"][0] > 0.3 and d[\"continentalness\"][0] > 0:\n",
    "    index.append(i)\n",
    "index\n",
    "\n",
    "desert.loc[index]"
   ]
  },
  {
   "cell_type": "code",
   "execution_count": 24,
   "metadata": {},
   "outputs": [
    {
     "data": {
      "text/plain": [
       "<matplotlib.collections.PathCollection at 0x7f8468258880>"
      ]
     },
     "execution_count": 24,
     "metadata": {},
     "output_type": "execute_result"
    },
    {
     "data": {
      "image/png": "[encoded data removed]",
      "text/plain": [
       "<Figure size 432x288 with 1 Axes>"
      ]
     },
     "metadata": {
      "needs_background": "light"
     },
     "output_type": "display_data"
    }
   ],
   "source": [
    "import matplotlib.pyplot as plt\n",
    "\n",
    "X = np.linspace(0, len(desert)-1, len(desert))\n",
    "plt.scatter(X, desert[\"offset\"])"
   ]
  },
  {
   "cell_type": "code",
   "execution_count": 25,
   "metadata": {},
   "outputs": [
    {
     "data": {
      "text/plain": [
       "<matplotlib.collections.PathCollection at 0x7f8468242670>"
      ]
     },
     "execution_count": 25,
     "metadata": {},
     "output_type": "execute_result"
    },
    {
     "data": {
      "image/png": "[encoded data removed]",
      "text/plain": [
       "<Figure size 432x288 with 1 Axes>"
      ]
     },
     "metadata": {
      "needs_background": "light"
     },
     "output_type": "display_data"
    }
   ],
   "source": [
    "X = [t[0] for t in desert[\"temperature\"]]\n",
    "Y = [t[1] for t in desert[\"temperature\"]]\n",
    "plt.scatter(X, Y)"
   ]
  }
 ],
 "metadata": {
  "interpreter": {
   "hash": "31f2aee4e71d21fbe5cf8b01ff0e069b9275f58929596ceb00d14d90e3e16cd6"
  },
  "kernelspec": {
   "display_name": "Python 3.8.10 64-bit",
   "language": "python",
   "name": "python3"
  },
  "language_info": {
   "codemirror_mode": {
    "name": "ipython",
    "version": 3
   },
   "file_extension": ".py",
   "mimetype": "text/x-python",
   "name": "python",
   "nbconvert_exporter": "python",
   "pygments_lexer": "ipython3",
   "version": "3.8.10"
  },
  "orig_nbformat": 4
 },
 "nbformat": 4,
 "nbformat_minor": 2
}
