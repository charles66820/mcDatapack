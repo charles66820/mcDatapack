{
 "cells": [
  {
   "cell_type": "code",
   "execution_count": 129,
   "metadata": {},
   "outputs": [],
   "source": [
    "import numpy as np\n",
    "import pandas as pa\n",
    "import matplotlib.pyplot as plt\n",
    "%matplotlib inline"
   ]
  },
  {
   "cell_type": "markdown",
   "metadata": {},
   "source": [
    "## Load data"
   ]
  },
  {
   "cell_type": "code",
   "execution_count": 130,
   "metadata": {},
   "outputs": [],
   "source": [
    "df = pa.read_json(\"https://raw.githubusercontent.com/misode/vanilla-worldgen/master/dimension/overworld.json\")"
   ]
  },
  {
   "cell_type": "markdown",
   "metadata": {},
   "source": [
    "### Filter biomes"
   ]
  },
  {
   "cell_type": "code",
   "execution_count": 131,
   "metadata": {},
   "outputs": [],
   "source": [
    "biomes = df[\"generator\"][\"biome_source\"][\"biomes\"]\n",
    "dfName = pa.DataFrame([b[\"biome\"] for b in biomes], columns=[\"biomes\"])\n",
    "\n",
    "params = [b[\"parameters\"] for b in biomes]\n",
    "parameters = [[p[\"erosion\"], p[\"depth\"], p[\"weirdness\"], p[\"offset\"], p[\"temperature\"], p[\"humidity\"], p[\"continentalness\"]] for p in params]\n",
    "dfParameters = pa.DataFrame(parameters, columns=[\"erosion\", \"depth\", \"weirdness\", \"offset\", \"temperature\", \"humidity\", \"continentalness\"])"
   ]
  },
  {
   "cell_type": "markdown",
   "metadata": {},
   "source": [
    "### The dataset"
   ]
  },
  {
   "cell_type": "code",
   "execution_count": 132,
   "metadata": {},
   "outputs": [],
   "source": [
    "dataset = pa.concat([dfName, dfParameters], axis=1)"
   ]
  },
  {
   "cell_type": "code",
   "execution_count": 133,
   "metadata": {},
   "outputs": [
    {
     "data": {
      "text/html": [
       "<div>\n",
       "<style scoped>\n",
       "    .dataframe tbody tr th:only-of-type {\n",
       "        vertical-align: middle;\n",
       "    }\n",
       "\n",
       "    .dataframe tbody tr th {\n",
       "        vertical-align: top;\n",
       "    }\n",
       "\n",
       "    .dataframe thead th {\n",
       "        text-align: right;\n",
       "    }\n",
       "</style>\n",
       "<table border=\"1\" class=\"dataframe\">\n",
       "  <thead>\n",
       "    <tr style=\"text-align: right;\">\n",
       "      <th></th>\n",
       "      <th>biomes</th>\n",
       "      <th>erosion</th>\n",
       "      <th>depth</th>\n",
       "      <th>weirdness</th>\n",
       "      <th>offset</th>\n",
       "      <th>temperature</th>\n",
       "      <th>humidity</th>\n",
       "      <th>continentalness</th>\n",
       "    </tr>\n",
       "  </thead>\n",
       "  <tbody>\n",
       "    <tr>\n",
       "      <th>0</th>\n",
       "      <td>minecraft:mushroom_fields</td>\n",
       "      <td>[-1.0, 1.0]</td>\n",
       "      <td>0.0</td>\n",
       "      <td>[-1.0, 1.0]</td>\n",
       "      <td>0.0</td>\n",
       "      <td>[-1.0, 1.0]</td>\n",
       "      <td>[-1.0, 1.0]</td>\n",
       "      <td>[-1.2, -1.05]</td>\n",
       "    </tr>\n",
       "    <tr>\n",
       "      <th>1</th>\n",
       "      <td>minecraft:mushroom_fields</td>\n",
       "      <td>[-1.0, 1.0]</td>\n",
       "      <td>1.0</td>\n",
       "      <td>[-1.0, 1.0]</td>\n",
       "      <td>0.0</td>\n",
       "      <td>[-1.0, 1.0]</td>\n",
       "      <td>[-1.0, 1.0]</td>\n",
       "      <td>[-1.2, -1.05]</td>\n",
       "    </tr>\n",
       "    <tr>\n",
       "      <th>2</th>\n",
       "      <td>minecraft:deep_frozen_ocean</td>\n",
       "      <td>[-1.0, 1.0]</td>\n",
       "      <td>0.0</td>\n",
       "      <td>[-1.0, 1.0]</td>\n",
       "      <td>0.0</td>\n",
       "      <td>[-1.0, -0.45]</td>\n",
       "      <td>[-1.0, 1.0]</td>\n",
       "      <td>[-1.05, -0.455]</td>\n",
       "    </tr>\n",
       "    <tr>\n",
       "      <th>3</th>\n",
       "      <td>minecraft:deep_frozen_ocean</td>\n",
       "      <td>[-1.0, 1.0]</td>\n",
       "      <td>1.0</td>\n",
       "      <td>[-1.0, 1.0]</td>\n",
       "      <td>0.0</td>\n",
       "      <td>[-1.0, -0.45]</td>\n",
       "      <td>[-1.0, 1.0]</td>\n",
       "      <td>[-1.05, -0.455]</td>\n",
       "    </tr>\n",
       "    <tr>\n",
       "      <th>4</th>\n",
       "      <td>minecraft:frozen_ocean</td>\n",
       "      <td>[-1.0, 1.0]</td>\n",
       "      <td>0.0</td>\n",
       "      <td>[-1.0, 1.0]</td>\n",
       "      <td>0.0</td>\n",
       "      <td>[-1.0, -0.45]</td>\n",
       "      <td>[-1.0, 1.0]</td>\n",
       "      <td>[-0.455, -0.19]</td>\n",
       "    </tr>\n",
       "    <tr>\n",
       "      <th>...</th>\n",
       "      <td>...</td>\n",
       "      <td>...</td>\n",
       "      <td>...</td>\n",
       "      <td>...</td>\n",
       "      <td>...</td>\n",
       "      <td>...</td>\n",
       "      <td>...</td>\n",
       "      <td>...</td>\n",
       "    </tr>\n",
       "    <tr>\n",
       "      <th>7573</th>\n",
       "      <td>minecraft:desert</td>\n",
       "      <td>[0.45, 0.55]</td>\n",
       "      <td>1.0</td>\n",
       "      <td>[0.9333, 1.0]</td>\n",
       "      <td>0.0</td>\n",
       "      <td>[0.55, 1.0]</td>\n",
       "      <td>[0.30000000000000004, 1.0]</td>\n",
       "      <td>[0.03, 1.0]</td>\n",
       "    </tr>\n",
       "    <tr>\n",
       "      <th>7574</th>\n",
       "      <td>minecraft:desert</td>\n",
       "      <td>[0.55, 1.0]</td>\n",
       "      <td>0.0</td>\n",
       "      <td>[0.9333, 1.0]</td>\n",
       "      <td>0.0</td>\n",
       "      <td>[0.55, 1.0]</td>\n",
       "      <td>[0.30000000000000004, 1.0]</td>\n",
       "      <td>[-0.19, -0.11]</td>\n",
       "    </tr>\n",
       "    <tr>\n",
       "      <th>7575</th>\n",
       "      <td>minecraft:desert</td>\n",
       "      <td>[0.55, 1.0]</td>\n",
       "      <td>1.0</td>\n",
       "      <td>[0.9333, 1.0]</td>\n",
       "      <td>0.0</td>\n",
       "      <td>[0.55, 1.0]</td>\n",
       "      <td>[0.30000000000000004, 1.0]</td>\n",
       "      <td>[-0.19, -0.11]</td>\n",
       "    </tr>\n",
       "    <tr>\n",
       "      <th>7576</th>\n",
       "      <td>minecraft:dripstone_caves</td>\n",
       "      <td>[-1.0, 1.0]</td>\n",
       "      <td>[0.2, 0.9]</td>\n",
       "      <td>[-1.0, 1.0]</td>\n",
       "      <td>0.0</td>\n",
       "      <td>[-1.0, 1.0]</td>\n",
       "      <td>[-1.0, 1.0]</td>\n",
       "      <td>[0.8, 1.0]</td>\n",
       "    </tr>\n",
       "    <tr>\n",
       "      <th>7577</th>\n",
       "      <td>minecraft:lush_caves</td>\n",
       "      <td>[-1.0, 1.0]</td>\n",
       "      <td>[0.2, 0.9]</td>\n",
       "      <td>[-1.0, 1.0]</td>\n",
       "      <td>0.0</td>\n",
       "      <td>[-1.0, 1.0]</td>\n",
       "      <td>[0.7000000000000001, 1.0]</td>\n",
       "      <td>[-1.0, 1.0]</td>\n",
       "    </tr>\n",
       "  </tbody>\n",
       "</table>\n",
       "<p>7578 rows × 8 columns</p>\n",
       "</div>"
      ],
      "text/plain": [
       "                           biomes       erosion       depth      weirdness  \\\n",
       "0       minecraft:mushroom_fields   [-1.0, 1.0]         0.0    [-1.0, 1.0]   \n",
       "1       minecraft:mushroom_fields   [-1.0, 1.0]         1.0    [-1.0, 1.0]   \n",
       "2     minecraft:deep_frozen_ocean   [-1.0, 1.0]         0.0    [-1.0, 1.0]   \n",
       "3     minecraft:deep_frozen_ocean   [-1.0, 1.0]         1.0    [-1.0, 1.0]   \n",
       "4          minecraft:frozen_ocean   [-1.0, 1.0]         0.0    [-1.0, 1.0]   \n",
       "...                           ...           ...         ...            ...   \n",
       "7573             minecraft:desert  [0.45, 0.55]         1.0  [0.9333, 1.0]   \n",
       "7574             minecraft:desert   [0.55, 1.0]         0.0  [0.9333, 1.0]   \n",
       "7575             minecraft:desert   [0.55, 1.0]         1.0  [0.9333, 1.0]   \n",
       "7576    minecraft:dripstone_caves   [-1.0, 1.0]  [0.2, 0.9]    [-1.0, 1.0]   \n",
       "7577         minecraft:lush_caves   [-1.0, 1.0]  [0.2, 0.9]    [-1.0, 1.0]   \n",
       "\n",
       "      offset    temperature                    humidity  continentalness  \n",
       "0        0.0    [-1.0, 1.0]                 [-1.0, 1.0]    [-1.2, -1.05]  \n",
       "1        0.0    [-1.0, 1.0]                 [-1.0, 1.0]    [-1.2, -1.05]  \n",
       "2        0.0  [-1.0, -0.45]                 [-1.0, 1.0]  [-1.05, -0.455]  \n",
       "3        0.0  [-1.0, -0.45]                 [-1.0, 1.0]  [-1.05, -0.455]  \n",
       "4        0.0  [-1.0, -0.45]                 [-1.0, 1.0]  [-0.455, -0.19]  \n",
       "...      ...            ...                         ...              ...  \n",
       "7573     0.0    [0.55, 1.0]  [0.30000000000000004, 1.0]      [0.03, 1.0]  \n",
       "7574     0.0    [0.55, 1.0]  [0.30000000000000004, 1.0]   [-0.19, -0.11]  \n",
       "7575     0.0    [0.55, 1.0]  [0.30000000000000004, 1.0]   [-0.19, -0.11]  \n",
       "7576     0.0    [-1.0, 1.0]                 [-1.0, 1.0]       [0.8, 1.0]  \n",
       "7577     0.0    [-1.0, 1.0]   [0.7000000000000001, 1.0]      [-1.0, 1.0]  \n",
       "\n",
       "[7578 rows x 8 columns]"
      ]
     },
     "execution_count": 133,
     "metadata": {},
     "output_type": "execute_result"
    }
   ],
   "source": [
    "dataset"
   ]
  },
  {
   "cell_type": "markdown",
   "metadata": {},
   "source": [
    "### Get biomes list"
   ]
  },
  {
   "cell_type": "code",
   "execution_count": 134,
   "metadata": {},
   "outputs": [
    {
     "name": "stdout",
     "output_type": "stream",
     "text": [
      "50\n"
     ]
    },
    {
     "data": {
      "text/plain": [
       "0                minecraft:mushroom_fields\n",
       "2              minecraft:deep_frozen_ocean\n",
       "4                   minecraft:frozen_ocean\n",
       "6                minecraft:deep_cold_ocean\n",
       "8                     minecraft:cold_ocean\n",
       "10                    minecraft:deep_ocean\n",
       "12                         minecraft:ocean\n",
       "14           minecraft:deep_lukewarm_ocean\n",
       "16                minecraft:lukewarm_ocean\n",
       "18                    minecraft:warm_ocean\n",
       "22                   minecraft:stony_shore\n",
       "24                         minecraft:swamp\n",
       "26                  minecraft:snowy_slopes\n",
       "32                  minecraft:snowy_plains\n",
       "42                   minecraft:snowy_beach\n",
       "50      minecraft:windswept_gravelly_hills\n",
       "86                         minecraft:grove\n",
       "110              minecraft:windswept_hills\n",
       "122                  minecraft:snowy_taiga\n",
       "140             minecraft:windswept_forest\n",
       "152                        minecraft:taiga\n",
       "178                       minecraft:plains\n",
       "180                       minecraft:meadow\n",
       "192                        minecraft:beach\n",
       "234                       minecraft:forest\n",
       "290      minecraft:old_growth_spruce_taiga\n",
       "318                minecraft:flower_forest\n",
       "402                 minecraft:birch_forest\n",
       "430                  minecraft:dark_forest\n",
       "456              minecraft:savanna_plateau\n",
       "458                      minecraft:savanna\n",
       "542                       minecraft:jungle\n",
       "596                     minecraft:badlands\n",
       "598              minecraft:eroded_badlands\n",
       "602                       minecraft:desert\n",
       "680              minecraft:wooded_badlands\n",
       "740                 minecraft:jagged_peaks\n",
       "1130                 minecraft:stony_peaks\n",
       "3814                minecraft:frozen_river\n",
       "3816                       minecraft:river\n",
       "3834                  minecraft:ice_spikes\n",
       "3852       minecraft:old_growth_pine_taiga\n",
       "3854            minecraft:sunflower_plains\n",
       "3860     minecraft:old_growth_birch_forest\n",
       "3870               minecraft:sparse_jungle\n",
       "3872               minecraft:bamboo_jungle\n",
       "4110           minecraft:windswept_savanna\n",
       "5066                minecraft:frozen_peaks\n",
       "7576             minecraft:dripstone_caves\n",
       "7577                  minecraft:lush_caves\n",
       "Name: biomes, dtype: object"
      ]
     },
     "execution_count": 134,
     "metadata": {},
     "output_type": "execute_result"
    }
   ],
   "source": [
    "bName = dataset[\"biomes\"].drop_duplicates()\n",
    "print(len(bName))\n",
    "bName"
   ]
  },
  {
   "cell_type": "markdown",
   "metadata": {},
   "source": [
    "### Give color to some biome"
   ]
  },
  {
   "cell_type": "code",
   "execution_count": 135,
   "metadata": {},
   "outputs": [],
   "source": [
    "bName = np.array([\"minecraft:savanna\", \"minecraft:plains\", \"minecraft:ocean\", \"minecraft:warm_ocean\", \"minecraft:mushroom_fields\", \"minecraft:desert\"])\n",
    "def getBiomeColor(name):\n",
    "  colors = ['r','g','b','c','m','yellow']\n",
    "  symbols = [1,2,3,4,8,12]\n",
    "  i = np.where(bName == name)[0]\n",
    "\n",
    "  if i >= len(colors) or len(i) == 0:\n",
    "    return (\"purple\", 19)\n",
    "  return (colors[int(i)], symbols[int(i)])"
   ]
  },
  {
   "cell_type": "code",
   "execution_count": 136,
   "metadata": {},
   "outputs": [],
   "source": [
    "def showVec(ds, vecName):\n",
    "  X = [t[0] for t in ds[vecName]]\n",
    "  Y = [t[1] for t in ds[vecName]]\n",
    "  colors = [getBiomeColor(b)[0] for b in ds[\"biomes\"]]\n",
    "  plt.scatter(X, Y, c=colors, alpha=0.4)"
   ]
  },
  {
   "cell_type": "code",
   "execution_count": 137,
   "metadata": {},
   "outputs": [],
   "source": [
    "nameSelect = [\"minecraft:savanna\", \"minecraft:plains\", \"minecraft:ocean\",\n",
    "              \"minecraft:warm_ocean\", \"minecraft:mushroom_fields\", \"minecraft:desert\"]\n",
    "bNameSelect = [any(b == bn for bn in nameSelect) for b in dataset[\"biomes\"]]"
   ]
  },
  {
   "cell_type": "code",
   "execution_count": 138,
   "metadata": {},
   "outputs": [
    {
     "data": {
      "image/png": "[encoded data removed]",
      "text/plain": [
       "<Figure size 432x288 with 1 Axes>"
      ]
     },
     "metadata": {
      "needs_background": "light"
     },
     "output_type": "display_data"
    }
   ],
   "source": [
    "showVec(dataset[bNameSelect], \"erosion\")"
   ]
  },
  {
   "cell_type": "code",
   "execution_count": 139,
   "metadata": {},
   "outputs": [
    {
     "data": {
      "image/png": "[encoded data removed]",
      "text/plain": [
       "<Figure size 432x288 with 1 Axes>"
      ]
     },
     "metadata": {
      "needs_background": "light"
     },
     "output_type": "display_data"
    }
   ],
   "source": [
    "showVec(dataset[bNameSelect], \"weirdness\")"
   ]
  },
  {
   "cell_type": "code",
   "execution_count": 140,
   "metadata": {},
   "outputs": [
    {
     "data": {
      "image/png": "[encoded data removed]",
      "text/plain": [
       "<Figure size 432x288 with 1 Axes>"
      ]
     },
     "metadata": {
      "needs_background": "light"
     },
     "output_type": "display_data"
    }
   ],
   "source": [
    "showVec(dataset[bNameSelect], \"temperature\") # biome grouping"
   ]
  },
  {
   "cell_type": "code",
   "execution_count": 141,
   "metadata": {},
   "outputs": [
    {
     "data": {
      "image/png": "[encoded data removed]",
      "text/plain": [
       "<Figure size 432x288 with 1 Axes>"
      ]
     },
     "metadata": {
      "needs_background": "light"
     },
     "output_type": "display_data"
    }
   ],
   "source": [
    "showVec(dataset[bNameSelect], \"humidity\")"
   ]
  },
  {
   "cell_type": "code",
   "execution_count": 142,
   "metadata": {},
   "outputs": [
    {
     "data": {
      "image/png": "[encoded data removed]",
      "text/plain": [
       "<Figure size 432x288 with 1 Axes>"
      ]
     },
     "metadata": {
      "needs_background": "light"
     },
     "output_type": "display_data"
    }
   ],
   "source": [
    "showVec(dataset[bNameSelect], \"continentalness\")"
   ]
  },
  {
   "cell_type": "markdown",
   "metadata": {},
   "source": [
    "## Test with desert"
   ]
  },
  {
   "cell_type": "code",
   "execution_count": 148,
   "metadata": {},
   "outputs": [
    {
     "data": {
      "text/html": [
       "<div>\n",
       "<style scoped>\n",
       "    .dataframe tbody tr th:only-of-type {\n",
       "        vertical-align: middle;\n",
       "    }\n",
       "\n",
       "    .dataframe tbody tr th {\n",
       "        vertical-align: top;\n",
       "    }\n",
       "\n",
       "    .dataframe thead th {\n",
       "        text-align: right;\n",
       "    }\n",
       "</style>\n",
       "<table border=\"1\" class=\"dataframe\">\n",
       "  <thead>\n",
       "    <tr style=\"text-align: right;\">\n",
       "      <th></th>\n",
       "      <th>biomes</th>\n",
       "      <th>erosion</th>\n",
       "      <th>depth</th>\n",
       "      <th>weirdness</th>\n",
       "      <th>offset</th>\n",
       "      <th>temperature</th>\n",
       "      <th>humidity</th>\n",
       "      <th>continentalness</th>\n",
       "    </tr>\n",
       "  </thead>\n",
       "  <tbody>\n",
       "    <tr>\n",
       "      <th>3782</th>\n",
       "      <td>minecraft:desert</td>\n",
       "      <td>[-0.2225, 0.45]</td>\n",
       "      <td>0.0</td>\n",
       "      <td>[-0.2666, -0.05]</td>\n",
       "      <td>0.0</td>\n",
       "      <td>[0.55, 1.0]</td>\n",
       "      <td>[0.1, 0.30000000000000004]</td>\n",
       "      <td>[-0.19, -0.11]</td>\n",
       "    </tr>\n",
       "    <tr>\n",
       "      <th>3783</th>\n",
       "      <td>minecraft:desert</td>\n",
       "      <td>[-0.2225, 0.45]</td>\n",
       "      <td>1.0</td>\n",
       "      <td>[-0.2666, -0.05]</td>\n",
       "      <td>0.0</td>\n",
       "      <td>[0.55, 1.0]</td>\n",
       "      <td>[0.1, 0.30000000000000004]</td>\n",
       "      <td>[-0.19, -0.11]</td>\n",
       "    </tr>\n",
       "    <tr>\n",
       "      <th>4366</th>\n",
       "      <td>minecraft:desert</td>\n",
       "      <td>[-0.2225, 0.45]</td>\n",
       "      <td>0.0</td>\n",
       "      <td>[0.05, 0.2666]</td>\n",
       "      <td>0.0</td>\n",
       "      <td>[0.55, 1.0]</td>\n",
       "      <td>[0.1, 0.30000000000000004]</td>\n",
       "      <td>[-0.19, -0.11]</td>\n",
       "    </tr>\n",
       "    <tr>\n",
       "      <th>4367</th>\n",
       "      <td>minecraft:desert</td>\n",
       "      <td>[-0.2225, 0.45]</td>\n",
       "      <td>1.0</td>\n",
       "      <td>[0.05, 0.2666]</td>\n",
       "      <td>0.0</td>\n",
       "      <td>[0.55, 1.0]</td>\n",
       "      <td>[0.1, 0.30000000000000004]</td>\n",
       "      <td>[-0.19, -0.11]</td>\n",
       "    </tr>\n",
       "  </tbody>\n",
       "</table>\n",
       "</div>"
      ],
      "text/plain": [
       "                biomes          erosion depth         weirdness  offset  \\\n",
       "3782  minecraft:desert  [-0.2225, 0.45]   0.0  [-0.2666, -0.05]     0.0   \n",
       "3783  minecraft:desert  [-0.2225, 0.45]   1.0  [-0.2666, -0.05]     0.0   \n",
       "4366  minecraft:desert  [-0.2225, 0.45]   0.0    [0.05, 0.2666]     0.0   \n",
       "4367  minecraft:desert  [-0.2225, 0.45]   1.0    [0.05, 0.2666]     0.0   \n",
       "\n",
       "      temperature                    humidity continentalness  \n",
       "3782  [0.55, 1.0]  [0.1, 0.30000000000000004]  [-0.19, -0.11]  \n",
       "3783  [0.55, 1.0]  [0.1, 0.30000000000000004]  [-0.19, -0.11]  \n",
       "4366  [0.55, 1.0]  [0.1, 0.30000000000000004]  [-0.19, -0.11]  \n",
       "4367  [0.55, 1.0]  [0.1, 0.30000000000000004]  [-0.19, -0.11]  "
      ]
     },
     "execution_count": 148,
     "metadata": {},
     "output_type": "execute_result"
    }
   ],
   "source": [
    "desert = dataset[dataset[\"biomes\"] == \"minecraft:desert\"]\n",
    "desert\n",
    "\n",
    "index = []\n",
    "for d in desert.iterrows():\n",
    "  if d[1][\"erosion\"][0] == -0.2225 and d[1][\"erosion\"][1] == 0.45 and d[1][\"humidity\"][0] == 0.1 and d[1][\"humidity\"][1] == 0.30000000000000004:\n",
    "    index.append(d[0])\n",
    "index\n",
    "\n",
    "desert.loc[index]"
   ]
  },
  {
   "cell_type": "code",
   "execution_count": 144,
   "metadata": {},
   "outputs": [
    {
     "data": {
      "text/plain": [
       "<matplotlib.collections.PathCollection at 0x7f8624971f70>"
      ]
     },
     "execution_count": 144,
     "metadata": {},
     "output_type": "execute_result"
    },
    {
     "data": {
      "image/png": "[encoded data removed]",
      "text/plain": [
       "<Figure size 432x288 with 1 Axes>"
      ]
     },
     "metadata": {
      "needs_background": "light"
     },
     "output_type": "display_data"
    }
   ],
   "source": [
    "import matplotlib.pyplot as plt\n",
    "\n",
    "X = np.linspace(0, len(desert)-1, len(desert))\n",
    "plt.scatter(X, desert[\"offset\"])"
   ]
  },
  {
   "cell_type": "code",
   "execution_count": 145,
   "metadata": {},
   "outputs": [
    {
     "data": {
      "text/plain": [
       "<matplotlib.collections.PathCollection at 0x7f8624767d30>"
      ]
     },
     "execution_count": 145,
     "metadata": {},
     "output_type": "execute_result"
    },
    {
     "data": {
      "image/png": "[encoded data removed]",
      "text/plain": [
       "<Figure size 432x288 with 1 Axes>"
      ]
     },
     "metadata": {
      "needs_background": "light"
     },
     "output_type": "display_data"
    }
   ],
   "source": [
    "X = [t[0] for t in desert[\"temperature\"]]\n",
    "Y = [t[1] for t in desert[\"temperature\"]]\n",
    "plt.scatter(X, Y)"
   ]
  }
 ],
 "metadata": {
  "interpreter": {
   "hash": "31f2aee4e71d21fbe5cf8b01ff0e069b9275f58929596ceb00d14d90e3e16cd6"
  },
  "kernelspec": {
   "display_name": "Python 3.8.10 64-bit",
   "language": "python",
   "name": "python3"
  },
  "language_info": {
   "codemirror_mode": {
    "name": "ipython",
    "version": 3
   },
   "file_extension": ".py",
   "mimetype": "text/x-python",
   "name": "python",
   "nbconvert_exporter": "python",
   "pygments_lexer": "ipython3",
   "version": "3.8.10"
  },
  "orig_nbformat": 4
 },
 "nbformat": 4,
 "nbformat_minor": 2
}
